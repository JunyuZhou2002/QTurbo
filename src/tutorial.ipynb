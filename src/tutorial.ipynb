{
 "cells": [
  {
   "cell_type": "markdown",
   "id": "f79a774e",
   "metadata": {},
   "source": [
    "# QTurbo Tutorial: Quantum Simulation Made Simple\n",
    "\n",
    "Welcome to **QTurbo** - a powerful framework for quantum system simulation and compilation! This tutorial will guide you through simulating an Ising chain model using a Heisenberg AAIS."
   ]
  },
  {
   "cell_type": "markdown",
   "id": "d468ae35",
   "metadata": {},
   "source": [
    "### Step 1: Import the QTurbo Modules"
   ]
  },
  {
   "cell_type": "code",
   "execution_count": 5,
   "id": "edb77de5",
   "metadata": {},
   "outputs": [],
   "source": [
    "# The core compilation engine \n",
    "from AQS.compiler import * \n",
    "# Predefined Ising chain quantum system\n",
    "from AQS.system.ising_chain import *\n",
    "# Heisenberg model simulator for analog quantum devices\n",
    "from AQS.simulator.heisenberg import *"
   ]
  },
  {
   "cell_type": "markdown",
   "id": "e1de53f6",
   "metadata": {},
   "source": [
    "### Step 2: Define Your Quantum System"
   ]
  },
  {
   "cell_type": "code",
   "execution_count": 6,
   "id": "00077eb3",
   "metadata": {},
   "outputs": [],
   "source": [
    "N = 100   # Number of qubits \n",
    "J = 1.0   # Coupling strength \n",
    "h = 1.0   # External field \n",
    "T = 2.0   # Evolution time \n",
    "\n",
    "# Create the quantum system\n",
    "model = ising_chain(N, J, h, T)"
   ]
  },
  {
   "cell_type": "markdown",
   "id": "098a84a4",
   "metadata": {},
   "source": [
    "### Step 3: Set Up the Quantum Simulator"
   ]
  },
  {
   "cell_type": "code",
   "execution_count": 7,
   "id": "26c04b76",
   "metadata": {},
   "outputs": [],
   "source": [
    "# Each qubit connects to its immediate neighbors\n",
    "edges = [(i, i+1) for i in range(N-1)]\n",
    "vertices = set([node for edge in edges for node in edge])\n",
    "\n",
    "# Generate the Heisenberg machine simulator\n",
    "machine = gen_heisenberg(edges, vertices)"
   ]
  },
  {
   "cell_type": "markdown",
   "id": "cf447d83",
   "metadata": {},
   "source": [
    "### Step 4: Compilation"
   ]
  },
  {
   "cell_type": "code",
   "execution_count": 8,
   "id": "b61f5a8e",
   "metadata": {},
   "outputs": [],
   "source": [
    "t_compile, t_evol, sol, res = operation(model, machine)"
   ]
  },
  {
   "cell_type": "markdown",
   "id": "1e64b99e",
   "metadata": {},
   "source": [
    "### Step 5: Result Analysis"
   ]
  },
  {
   "cell_type": "code",
   "execution_count": 9,
   "id": "3e8f0fdb",
   "metadata": {},
   "outputs": [
    {
     "name": "stdout",
     "output_type": "stream",
     "text": [
      "Compilation time: 0.25372743606567383\n",
      "Evolution time: 2.0\n",
      "Solution: {'ax0x1': np.float64(0.0), 'ay0y1': np.float64(0.0), 'az0z1': np.float64(1.0), 'ax1x2': np.float64(0.0), 'ay1y2': np.float64(0.0), 'az1z2': np.float64(1.0), 'ax2x3': np.float64(0.0), 'ay2y3': np.float64(0.0), 'az2z3': np.float64(1.0), 'ax3x4': np.float64(0.0), 'ay3y4': np.float64(0.0), 'az3z4': np.float64(1.0), 'ax4x5': np.float64(0.0), 'ay4y5': np.float64(0.0), 'az4z5': np.float64(1.0), 'ax5x6': np.float64(0.0), 'ay5y6': np.float64(0.0), 'az5z6': np.float64(1.0), 'ax6x7': np.float64(0.0), 'ay6y7': np.float64(0.0), 'az6z7': np.float64(1.0), 'ax7x8': np.float64(0.0), 'ay7y8': np.float64(0.0), 'az7z8': np.float64(1.0), 'ax8x9': np.float64(0.0), 'ay8y9': np.float64(0.0), 'az8z9': np.float64(1.0), 'ax9x10': np.float64(0.0), 'ay9y10': np.float64(0.0), 'az9z10': np.float64(1.0), 'ax10x11': np.float64(0.0), 'ay10y11': np.float64(0.0), 'az10z11': np.float64(1.0), 'ax11x12': np.float64(0.0), 'ay11y12': np.float64(0.0), 'az11z12': np.float64(1.0), 'ax12x13': np.float64(0.0), 'ay12y13': np.float64(0.0), 'az12z13': np.float64(1.0), 'ax13x14': np.float64(0.0), 'ay13y14': np.float64(0.0), 'az13z14': np.float64(1.0), 'ax14x15': np.float64(0.0), 'ay14y15': np.float64(0.0), 'az14z15': np.float64(1.0), 'ax15x16': np.float64(0.0), 'ay15y16': np.float64(0.0), 'az15z16': np.float64(1.0), 'ax16x17': np.float64(0.0), 'ay16y17': np.float64(0.0), 'az16z17': np.float64(1.0), 'ax17x18': np.float64(0.0), 'ay17y18': np.float64(0.0), 'az17z18': np.float64(1.0), 'ax18x19': np.float64(0.0), 'ay18y19': np.float64(0.0), 'az18z19': np.float64(1.0), 'ax19x20': np.float64(0.0), 'ay19y20': np.float64(0.0), 'az19z20': np.float64(1.0), 'ax20x21': np.float64(0.0), 'ay20y21': np.float64(0.0), 'az20z21': np.float64(1.0), 'ax21x22': np.float64(0.0), 'ay21y22': np.float64(0.0), 'az21z22': np.float64(1.0), 'ax22x23': np.float64(0.0), 'ay22y23': np.float64(0.0), 'az22z23': np.float64(1.0), 'ax23x24': np.float64(0.0), 'ay23y24': np.float64(0.0), 'az23z24': np.float64(1.0), 'ax24x25': np.float64(0.0), 'ay24y25': np.float64(0.0), 'az24z25': np.float64(1.0), 'ax25x26': np.float64(0.0), 'ay25y26': np.float64(0.0), 'az25z26': np.float64(1.0), 'ax26x27': np.float64(0.0), 'ay26y27': np.float64(0.0), 'az26z27': np.float64(1.0), 'ax27x28': np.float64(0.0), 'ay27y28': np.float64(0.0), 'az27z28': np.float64(1.0), 'ax28x29': np.float64(0.0), 'ay28y29': np.float64(0.0), 'az28z29': np.float64(1.0), 'ax29x30': np.float64(0.0), 'ay29y30': np.float64(0.0), 'az29z30': np.float64(1.0), 'ax30x31': np.float64(0.0), 'ay30y31': np.float64(0.0), 'az30z31': np.float64(1.0), 'ax31x32': np.float64(0.0), 'ay31y32': np.float64(0.0), 'az31z32': np.float64(1.0), 'ax32x33': np.float64(0.0), 'ay32y33': np.float64(0.0), 'az32z33': np.float64(1.0), 'ax33x34': np.float64(0.0), 'ay33y34': np.float64(0.0), 'az33z34': np.float64(1.0), 'ax34x35': np.float64(0.0), 'ay34y35': np.float64(0.0), 'az34z35': np.float64(1.0), 'ax35x36': np.float64(0.0), 'ay35y36': np.float64(0.0), 'az35z36': np.float64(1.0), 'ax36x37': np.float64(0.0), 'ay36y37': np.float64(0.0), 'az36z37': np.float64(1.0), 'ax37x38': np.float64(0.0), 'ay37y38': np.float64(0.0), 'az37z38': np.float64(1.0), 'ax38x39': np.float64(0.0), 'ay38y39': np.float64(0.0), 'az38z39': np.float64(1.0), 'ax39x40': np.float64(0.0), 'ay39y40': np.float64(0.0), 'az39z40': np.float64(1.0), 'ax40x41': np.float64(0.0), 'ay40y41': np.float64(0.0), 'az40z41': np.float64(1.0), 'ax41x42': np.float64(0.0), 'ay41y42': np.float64(0.0), 'az41z42': np.float64(1.0), 'ax42x43': np.float64(0.0), 'ay42y43': np.float64(0.0), 'az42z43': np.float64(1.0), 'ax43x44': np.float64(0.0), 'ay43y44': np.float64(0.0), 'az43z44': np.float64(1.0), 'ax44x45': np.float64(0.0), 'ay44y45': np.float64(0.0), 'az44z45': np.float64(1.0), 'ax45x46': np.float64(0.0), 'ay45y46': np.float64(0.0), 'az45z46': np.float64(1.0), 'ax46x47': np.float64(0.0), 'ay46y47': np.float64(0.0), 'az46z47': np.float64(1.0), 'ax47x48': np.float64(0.0), 'ay47y48': np.float64(0.0), 'az47z48': np.float64(1.0), 'ax48x49': np.float64(0.0), 'ay48y49': np.float64(0.0), 'az48z49': np.float64(1.0), 'ax49x50': np.float64(0.0), 'ay49y50': np.float64(0.0), 'az49z50': np.float64(1.0), 'ax50x51': np.float64(0.0), 'ay50y51': np.float64(0.0), 'az50z51': np.float64(1.0), 'ax51x52': np.float64(0.0), 'ay51y52': np.float64(0.0), 'az51z52': np.float64(1.0), 'ax52x53': np.float64(0.0), 'ay52y53': np.float64(0.0), 'az52z53': np.float64(1.0), 'ax53x54': np.float64(0.0), 'ay53y54': np.float64(0.0), 'az53z54': np.float64(1.0), 'ax54x55': np.float64(0.0), 'ay54y55': np.float64(0.0), 'az54z55': np.float64(1.0), 'ax55x56': np.float64(0.0), 'ay55y56': np.float64(0.0), 'az55z56': np.float64(1.0), 'ax56x57': np.float64(0.0), 'ay56y57': np.float64(0.0), 'az56z57': np.float64(1.0), 'ax57x58': np.float64(0.0), 'ay57y58': np.float64(0.0), 'az57z58': np.float64(1.0), 'ax58x59': np.float64(0.0), 'ay58y59': np.float64(0.0), 'az58z59': np.float64(1.0), 'ax59x60': np.float64(0.0), 'ay59y60': np.float64(0.0), 'az59z60': np.float64(1.0), 'ax60x61': np.float64(0.0), 'ay60y61': np.float64(0.0), 'az60z61': np.float64(1.0), 'ax61x62': np.float64(0.0), 'ay61y62': np.float64(0.0), 'az61z62': np.float64(1.0), 'ax62x63': np.float64(0.0), 'ay62y63': np.float64(0.0), 'az62z63': np.float64(1.0), 'ax63x64': np.float64(0.0), 'ay63y64': np.float64(0.0), 'az63z64': np.float64(1.0), 'ax64x65': np.float64(0.0), 'ay64y65': np.float64(0.0), 'az64z65': np.float64(1.0), 'ax65x66': np.float64(0.0), 'ay65y66': np.float64(0.0), 'az65z66': np.float64(1.0), 'ax66x67': np.float64(0.0), 'ay66y67': np.float64(0.0), 'az66z67': np.float64(1.0), 'ax67x68': np.float64(0.0), 'ay67y68': np.float64(0.0), 'az67z68': np.float64(1.0), 'ax68x69': np.float64(0.0), 'ay68y69': np.float64(0.0), 'az68z69': np.float64(1.0), 'ax69x70': np.float64(0.0), 'ay69y70': np.float64(0.0), 'az69z70': np.float64(1.0), 'ax70x71': np.float64(0.0), 'ay70y71': np.float64(0.0), 'az70z71': np.float64(1.0), 'ax71x72': np.float64(0.0), 'ay71y72': np.float64(0.0), 'az71z72': np.float64(1.0), 'ax72x73': np.float64(0.0), 'ay72y73': np.float64(0.0), 'az72z73': np.float64(1.0), 'ax73x74': np.float64(0.0), 'ay73y74': np.float64(0.0), 'az73z74': np.float64(1.0), 'ax74x75': np.float64(0.0), 'ay74y75': np.float64(0.0), 'az74z75': np.float64(1.0), 'ax75x76': np.float64(0.0), 'ay75y76': np.float64(0.0), 'az75z76': np.float64(1.0), 'ax76x77': np.float64(0.0), 'ay76y77': np.float64(0.0), 'az76z77': np.float64(1.0), 'ax77x78': np.float64(0.0), 'ay77y78': np.float64(0.0), 'az77z78': np.float64(1.0), 'ax78x79': np.float64(0.0), 'ay78y79': np.float64(0.0), 'az78z79': np.float64(1.0), 'ax79x80': np.float64(0.0), 'ay79y80': np.float64(0.0), 'az79z80': np.float64(1.0), 'ax80x81': np.float64(0.0), 'ay80y81': np.float64(0.0), 'az80z81': np.float64(1.0), 'ax81x82': np.float64(0.0), 'ay81y82': np.float64(0.0), 'az81z82': np.float64(1.0), 'ax82x83': np.float64(0.0), 'ay82y83': np.float64(0.0), 'az82z83': np.float64(1.0), 'ax83x84': np.float64(0.0), 'ay83y84': np.float64(0.0), 'az83z84': np.float64(1.0), 'ax84x85': np.float64(0.0), 'ay84y85': np.float64(0.0), 'az84z85': np.float64(1.0), 'ax85x86': np.float64(0.0), 'ay85y86': np.float64(0.0), 'az85z86': np.float64(1.0), 'ax86x87': np.float64(0.0), 'ay86y87': np.float64(0.0), 'az86z87': np.float64(1.0), 'ax87x88': np.float64(0.0), 'ay87y88': np.float64(0.0), 'az87z88': np.float64(1.0), 'ax88x89': np.float64(0.0), 'ay88y89': np.float64(0.0), 'az88z89': np.float64(1.0), 'ax89x90': np.float64(0.0), 'ay89y90': np.float64(0.0), 'az89z90': np.float64(1.0), 'ax90x91': np.float64(0.0), 'ay90y91': np.float64(0.0), 'az90z91': np.float64(1.0), 'ax91x92': np.float64(0.0), 'ay91y92': np.float64(0.0), 'az91z92': np.float64(1.0), 'ax92x93': np.float64(0.0), 'ay92y93': np.float64(0.0), 'az92z93': np.float64(1.0), 'ax93x94': np.float64(0.0), 'ay93y94': np.float64(0.0), 'az93z94': np.float64(1.0), 'ax94x95': np.float64(0.0), 'ay94y95': np.float64(0.0), 'az94z95': np.float64(1.0), 'ax95x96': np.float64(0.0), 'ay95y96': np.float64(0.0), 'az95z96': np.float64(1.0), 'ax96x97': np.float64(0.0), 'ay96y97': np.float64(0.0), 'az96z97': np.float64(1.0), 'ax97x98': np.float64(0.0), 'ay97y98': np.float64(0.0), 'az97z98': np.float64(1.0), 'ax98x99': np.float64(0.0), 'ay98y99': np.float64(0.0), 'az98z99': np.float64(1.0), 'omega0': np.float64(0.9999999999999996), 'az0': np.float64(0.0), 'omega1': np.float64(0.9999999999999996), 'az1': np.float64(0.0), 'omega2': np.float64(0.9999999999999996), 'az2': np.float64(0.0), 'omega3': np.float64(0.9999999999999996), 'az3': np.float64(0.0), 'omega4': np.float64(0.9999999999999996), 'az4': np.float64(0.0), 'omega5': np.float64(0.9999999999999996), 'az5': np.float64(0.0), 'omega6': np.float64(0.9999999999999996), 'az6': np.float64(0.0), 'omega7': np.float64(0.9999999999999996), 'az7': np.float64(0.0), 'omega8': np.float64(0.9999999999999996), 'az8': np.float64(0.0), 'omega9': np.float64(0.9999999999999996), 'az9': np.float64(0.0), 'omega10': np.float64(0.9999999999999996), 'az10': np.float64(0.0), 'omega11': np.float64(0.9999999999999996), 'az11': np.float64(0.0), 'omega12': np.float64(0.9999999999999996), 'az12': np.float64(0.0), 'omega13': np.float64(0.9999999999999996), 'az13': np.float64(0.0), 'omega14': np.float64(0.9999999999999996), 'az14': np.float64(0.0), 'omega15': np.float64(0.9999999999999996), 'az15': np.float64(0.0), 'omega16': np.float64(0.9999999999999996), 'az16': np.float64(0.0), 'omega17': np.float64(0.9999999999999996), 'az17': np.float64(0.0), 'omega18': np.float64(0.9999999999999996), 'az18': np.float64(0.0), 'omega19': np.float64(0.9999999999999996), 'az19': np.float64(0.0), 'omega20': np.float64(0.9999999999999996), 'az20': np.float64(0.0), 'omega21': np.float64(0.9999999999999996), 'az21': np.float64(0.0), 'omega22': np.float64(0.9999999999999996), 'az22': np.float64(0.0), 'omega23': np.float64(0.9999999999999996), 'az23': np.float64(0.0), 'omega24': np.float64(0.9999999999999996), 'az24': np.float64(0.0), 'omega25': np.float64(0.9999999999999996), 'az25': np.float64(0.0), 'omega26': np.float64(0.9999999999999996), 'az26': np.float64(0.0), 'omega27': np.float64(0.9999999999999996), 'az27': np.float64(0.0), 'omega28': np.float64(0.9999999999999996), 'az28': np.float64(0.0), 'omega29': np.float64(0.9999999999999996), 'az29': np.float64(0.0), 'omega30': np.float64(0.9999999999999996), 'az30': np.float64(0.0), 'omega31': np.float64(0.9999999999999996), 'az31': np.float64(0.0), 'omega32': np.float64(0.9999999999999996), 'az32': np.float64(0.0), 'omega33': np.float64(0.9999999999999996), 'az33': np.float64(0.0), 'omega34': np.float64(0.9999999999999996), 'az34': np.float64(0.0), 'omega35': np.float64(0.9999999999999996), 'az35': np.float64(0.0), 'omega36': np.float64(0.9999999999999996), 'az36': np.float64(0.0), 'omega37': np.float64(0.9999999999999996), 'az37': np.float64(0.0), 'omega38': np.float64(0.9999999999999996), 'az38': np.float64(0.0), 'omega39': np.float64(0.9999999999999996), 'az39': np.float64(0.0), 'omega40': np.float64(0.9999999999999996), 'az40': np.float64(0.0), 'omega41': np.float64(0.9999999999999996), 'az41': np.float64(0.0), 'omega42': np.float64(0.9999999999999996), 'az42': np.float64(0.0), 'omega43': np.float64(0.9999999999999996), 'az43': np.float64(0.0), 'omega44': np.float64(0.9999999999999996), 'az44': np.float64(0.0), 'omega45': np.float64(0.9999999999999996), 'az45': np.float64(0.0), 'omega46': np.float64(0.9999999999999996), 'az46': np.float64(0.0), 'omega47': np.float64(0.9999999999999996), 'az47': np.float64(0.0), 'omega48': np.float64(0.9999999999999996), 'az48': np.float64(0.0), 'omega49': np.float64(0.9999999999999996), 'az49': np.float64(0.0), 'omega50': np.float64(0.9999999999999996), 'az50': np.float64(0.0), 'omega51': np.float64(0.9999999999999996), 'az51': np.float64(0.0), 'omega52': np.float64(0.9999999999999996), 'az52': np.float64(0.0), 'omega53': np.float64(0.9999999999999996), 'az53': np.float64(0.0), 'omega54': np.float64(0.9999999999999996), 'az54': np.float64(0.0), 'omega55': np.float64(0.9999999999999996), 'az55': np.float64(0.0), 'omega56': np.float64(0.9999999999999996), 'az56': np.float64(0.0), 'omega57': np.float64(0.9999999999999996), 'az57': np.float64(0.0), 'omega58': np.float64(0.9999999999999996), 'az58': np.float64(0.0), 'omega59': np.float64(0.9999999999999996), 'az59': np.float64(0.0), 'omega60': np.float64(0.9999999999999996), 'az60': np.float64(0.0), 'omega61': np.float64(0.9999999999999996), 'az61': np.float64(0.0), 'omega62': np.float64(0.9999999999999996), 'az62': np.float64(0.0), 'omega63': np.float64(0.9999999999999996), 'az63': np.float64(0.0), 'omega64': np.float64(0.9999999999999996), 'az64': np.float64(0.0), 'omega65': np.float64(0.9999999999999996), 'az65': np.float64(0.0), 'omega66': np.float64(0.9999999999999996), 'az66': np.float64(0.0), 'omega67': np.float64(0.9999999999999996), 'az67': np.float64(0.0), 'omega68': np.float64(0.9999999999999996), 'az68': np.float64(0.0), 'omega69': np.float64(0.9999999999999996), 'az69': np.float64(0.0), 'omega70': np.float64(0.9999999999999996), 'az70': np.float64(0.0), 'omega71': np.float64(0.9999999999999996), 'az71': np.float64(0.0), 'omega72': np.float64(0.9999999999999996), 'az72': np.float64(0.0), 'omega73': np.float64(0.9999999999999996), 'az73': np.float64(0.0), 'omega74': np.float64(0.9999999999999996), 'az74': np.float64(0.0), 'omega75': np.float64(0.9999999999999996), 'az75': np.float64(0.0), 'omega76': np.float64(0.9999999999999996), 'az76': np.float64(0.0), 'omega77': np.float64(0.9999999999999996), 'az77': np.float64(0.0), 'omega78': np.float64(0.9999999999999996), 'az78': np.float64(0.0), 'omega79': np.float64(0.9999999999999996), 'az79': np.float64(0.0), 'omega80': np.float64(0.9999999999999996), 'az80': np.float64(0.0), 'omega81': np.float64(0.9999999999999996), 'az81': np.float64(0.0), 'omega82': np.float64(0.9999999999999996), 'az82': np.float64(0.0), 'omega83': np.float64(0.9999999999999996), 'az83': np.float64(0.0), 'omega84': np.float64(0.9999999999999996), 'az84': np.float64(0.0), 'omega85': np.float64(0.9999999999999996), 'az85': np.float64(0.0), 'omega86': np.float64(0.9999999999999996), 'az86': np.float64(0.0), 'omega87': np.float64(0.9999999999999996), 'az87': np.float64(0.0), 'omega88': np.float64(0.9999999999999996), 'az88': np.float64(0.0), 'omega89': np.float64(0.9999999999999996), 'az89': np.float64(0.0), 'omega90': np.float64(0.9999999999999996), 'az90': np.float64(0.0), 'omega91': np.float64(0.9999999999999996), 'az91': np.float64(0.0), 'omega92': np.float64(0.9999999999999996), 'az92': np.float64(0.0), 'omega93': np.float64(0.9999999999999996), 'az93': np.float64(0.0), 'omega94': np.float64(0.9999999999999996), 'az94': np.float64(0.0), 'omega95': np.float64(0.9999999999999996), 'az95': np.float64(0.0), 'omega96': np.float64(0.9999999999999996), 'az96': np.float64(0.0), 'omega97': np.float64(0.9999999999999996), 'az97': np.float64(0.0), 'omega98': np.float64(0.9999999999999996), 'az98': np.float64(0.0), 'omega99': np.float64(0.9999999999999996), 'az99': np.float64(0.0), 'phi0': np.float64(-7.549059712290029e-17), 'phi1': np.float64(-7.549059712290029e-17), 'phi2': np.float64(-7.549059381417784e-17), 'phi3': np.float64(-7.549058388801049e-17), 'phi4': np.float64(-7.549059712290029e-17), 'phi5': np.float64(-7.549059712290029e-17), 'phi6': np.float64(-7.549059712290029e-17), 'phi7': np.float64(-7.549059712290029e-17), 'phi8': np.float64(-7.549059712290029e-17), 'phi9': np.float64(-7.549059712290029e-17), 'phi10': np.float64(-7.549059381417784e-17), 'phi11': np.float64(-7.549058388801049e-17), 'phi12': np.float64(-7.549059712290029e-17), 'phi13': np.float64(-7.549059712290029e-17), 'phi14': np.float64(-7.549059712290029e-17), 'phi15': np.float64(-7.549059712290029e-17), 'phi16': np.float64(-7.549059712290029e-17), 'phi17': np.float64(-7.549059712290029e-17), 'phi18': np.float64(-7.549059381417784e-17), 'phi19': np.float64(-7.549058388801049e-17), 'phi20': np.float64(-7.549059712290029e-17), 'phi21': np.float64(-7.549059712290029e-17), 'phi22': np.float64(-7.549059712290029e-17), 'phi23': np.float64(-7.549059712290029e-17), 'phi24': np.float64(-7.549059712290029e-17), 'phi25': np.float64(-7.549059712290029e-17), 'phi26': np.float64(-7.549059381417784e-17), 'phi27': np.float64(-7.549058388801049e-17), 'phi28': np.float64(-7.549059712290029e-17), 'phi29': np.float64(-7.549059712290029e-17), 'phi30': np.float64(-7.549059712290029e-17), 'phi31': np.float64(-7.549059712290029e-17), 'phi32': np.float64(-7.549059712290029e-17), 'phi33': np.float64(-7.549059712290029e-17), 'phi34': np.float64(-7.549059381417784e-17), 'phi35': np.float64(-7.549058388801049e-17), 'phi36': np.float64(-7.549059712290029e-17), 'phi37': np.float64(-7.549059712290029e-17), 'phi38': np.float64(-7.549059712290029e-17), 'phi39': np.float64(-7.549059712290029e-17), 'phi40': np.float64(-7.549059712290029e-17), 'phi41': np.float64(-7.549059712290029e-17), 'phi42': np.float64(-7.549059381417784e-17), 'phi43': np.float64(-7.549058388801049e-17), 'phi44': np.float64(-7.549059712290029e-17), 'phi45': np.float64(-7.549059712290029e-17), 'phi46': np.float64(-7.549059712290029e-17), 'phi47': np.float64(-7.549059712290029e-17), 'phi48': np.float64(-7.549059712290029e-17), 'phi49': np.float64(-7.549059712290029e-17), 'phi50': np.float64(-7.549059381417784e-17), 'phi51': np.float64(-7.549058388801049e-17), 'phi52': np.float64(-7.549059712290029e-17), 'phi53': np.float64(-7.549059712290029e-17), 'phi54': np.float64(-7.549059712290029e-17), 'phi55': np.float64(-7.549059712290029e-17), 'phi56': np.float64(-7.549059712290029e-17), 'phi57': np.float64(-7.549059712290029e-17), 'phi58': np.float64(-7.549059381417784e-17), 'phi59': np.float64(-7.549058388801049e-17), 'phi60': np.float64(-7.549059712290029e-17), 'phi61': np.float64(-7.549059712290029e-17), 'phi62': np.float64(-7.549059712290029e-17), 'phi63': np.float64(-7.549059712290029e-17), 'phi64': np.float64(-7.549059712290029e-17), 'phi65': np.float64(-7.549059712290029e-17), 'phi66': np.float64(-7.549059381417784e-17), 'phi67': np.float64(-7.549058388801049e-17), 'phi68': np.float64(-7.549059712290029e-17), 'phi69': np.float64(-7.549059712290029e-17), 'phi70': np.float64(-7.549059712290029e-17), 'phi71': np.float64(-7.549059712290029e-17), 'phi72': np.float64(-7.549059712290029e-17), 'phi73': np.float64(-7.549059712290029e-17), 'phi74': np.float64(-7.549059381417784e-17), 'phi75': np.float64(-7.549058388801049e-17), 'phi76': np.float64(-7.549059712290029e-17), 'phi77': np.float64(-7.549059712290029e-17), 'phi78': np.float64(-7.549059712290029e-17), 'phi79': np.float64(-7.549059712290029e-17), 'phi80': np.float64(-7.549059712290029e-17), 'phi81': np.float64(-7.549059712290029e-17), 'phi82': np.float64(-7.549059381417784e-17), 'phi83': np.float64(-7.549058388801049e-17), 'phi84': np.float64(-7.549059712290029e-17), 'phi85': np.float64(-7.549059712290029e-17), 'phi86': np.float64(-7.549059712290029e-17), 'phi87': np.float64(-7.549059712290029e-17), 'phi88': np.float64(-7.549059712290029e-17), 'phi89': np.float64(-7.549059712290029e-17), 'phi90': np.float64(-7.549059381417784e-17), 'phi91': np.float64(-7.549058388801049e-17), 'phi92': np.float64(-7.549059712290029e-17), 'phi93': np.float64(-7.549059712290029e-17), 'phi94': np.float64(-7.549059712290029e-17), 'phi95': np.float64(-7.549059712290029e-17), 'phi96': np.float64(-7.549059712290029e-17), 'phi97': np.float64(-7.549059712290029e-17), 'phi98': np.float64(-7.549059381417784e-17), 'phi99': np.float64(-7.549058388801049e-17)}\n",
      "Absolute Error: 1.0391596096445866e-13\n"
     ]
    }
   ],
   "source": [
    "print(\"Compilation time:\", t_compile)\n",
    "print(\"Evolution time:\", t_evol)\n",
    "print(\"Solution:\", sol)\n",
    "print(\"Absolute Error:\", res)"
   ]
  },
  {
   "cell_type": "code",
   "execution_count": null,
   "id": "06d922e6",
   "metadata": {},
   "outputs": [],
   "source": []
  }
 ],
 "metadata": {
  "kernelspec": {
   "display_name": ".artifact",
   "language": "python",
   "name": "python3"
  },
  "language_info": {
   "codemirror_mode": {
    "name": "ipython",
    "version": 3
   },
   "file_extension": ".py",
   "mimetype": "text/x-python",
   "name": "python",
   "nbconvert_exporter": "python",
   "pygments_lexer": "ipython3",
   "version": "3.10.12"
  }
 },
 "nbformat": 4,
 "nbformat_minor": 5
}
