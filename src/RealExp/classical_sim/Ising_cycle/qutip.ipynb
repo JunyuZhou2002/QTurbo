{
 "cells": [
  {
   "cell_type": "code",
   "execution_count": 1,
   "metadata": {},
   "outputs": [],
   "source": [
    "from qutip import *\n",
    "import pandas as pd\n",
    "import numpy as np\n",
    "import matplotlib.pyplot as plt"
   ]
  },
  {
   "cell_type": "markdown",
   "metadata": {},
   "source": [
    "### Simulation"
   ]
  },
  {
   "cell_type": "code",
   "execution_count": 2,
   "metadata": {},
   "outputs": [],
   "source": [
    "size = 12\n",
    "\n",
    "# define the Hamiltonian and evolution time\n",
    "x = sigmax()\n",
    "z = sigmaz()\n",
    "i = qeye(2)\n",
    "\n",
    "N = size\n",
    "tensor_ls = [qeye(2) for i in range(N)]\n",
    "H = tensor(tensor_ls)\n",
    "for j in range(N-1):\n",
    "    pauli = [i for k in range(N)]\n",
    "    pauli[j] = z\n",
    "    pauli[j+1] = z\n",
    "    H = H + 2 * np.pi * 0.025 * tensor(pauli)\n",
    "\n",
    "pauli = [i for k in range(N)]\n",
    "pauli[N-1] = z\n",
    "pauli[0] = z\n",
    "H = H + 2 * np.pi * 0.025 * tensor(pauli)\n",
    "\n",
    "for j in range(N):\n",
    "    pauli = [i for k in range(N)]\n",
    "    pauli[j] = x\n",
    "    H = H + 2 * np.pi * 0.125 * tensor(pauli)\n",
    "\n",
    "# T = 0.25"
   ]
  },
  {
   "cell_type": "code",
   "execution_count": 3,
   "metadata": {},
   "outputs": [],
   "source": [
    "def ob_value(bin_str1, bin_str2):\n",
    "    \n",
    "    if len(bin_str1) != len(bin_str2):\n",
    "        raise ValueError(\"Binary strings must have the same length\")\n",
    "\n",
    "    # Compute bitwise product (AND operation)\n",
    "    bitwise_product = [int(b1) & int(b2) for b1, b2 in zip(bin_str1, bin_str2)]\n",
    "    \n",
    "    # Compute modulo 2 sum (XOR sum of all resulting bits)\n",
    "    mod2_sum = sum(bitwise_product) % 2\n",
    "    \n",
    "    return mod2_sum\n",
    "\n",
    "def z_exp(res, size):\n",
    "    Z_ob = [format(1 << i, f'0{size}b') for i in range(size)]\n",
    "    \n",
    "    ave_z = []\n",
    "    for ob in Z_ob:\n",
    "        exp_ob = 0\n",
    "        for key, value in res.items():\n",
    "            if ob_value(key, ob) == 0:\n",
    "                # ground state\n",
    "                exp_ob = exp_ob - 1 * value\n",
    "            else:\n",
    "                # excited state\n",
    "                exp_ob = exp_ob + 1 * value\n",
    "        ave_z.append(exp_ob)\n",
    "    exp_z = sum(ave_z)/len(ave_z)\n",
    "\n",
    "    return exp_z\n",
    "\n",
    "def zz_exp(res, size):\n",
    "    ZZ_ob = []\n",
    "    for i in range(size):\n",
    "        first_bit = 1 << i\n",
    "        second_bit = 1 << ((i + 1) % size)  # Wrap around for the last element\n",
    "        ZZ_ob.append(format(first_bit | second_bit, f'0{size}b'))\n",
    "    \n",
    "    ave_zz = []\n",
    "    for ob in ZZ_ob:\n",
    "        exp_ob = 0\n",
    "        for key, value in res.items():\n",
    "            if ob_value(key, ob) == 0:\n",
    "                # 00 or 11\n",
    "                exp_ob = exp_ob + 1 * value\n",
    "            else:\n",
    "                # 01 or 10\n",
    "                exp_ob = exp_ob - 1 * value\n",
    "        ave_zz.append(exp_ob)\n",
    "    exp_zz = sum(ave_zz)/len(ave_zz)\n",
    "\n",
    "    return exp_zz"
   ]
  },
  {
   "cell_type": "code",
   "execution_count": 4,
   "metadata": {},
   "outputs": [
    {
     "name": "stdout",
     "output_type": "stream",
     "text": [
      "[0.5  0.51 0.52 0.53 0.54 0.55 0.56 0.57 0.58 0.59 0.6  0.61 0.62 0.63\n",
      " 0.64 0.65 0.66 0.67 0.68 0.69 0.7  0.71 0.72 0.73 0.74 0.75 0.76 0.77\n",
      " 0.78 0.79 0.8  0.81 0.82 0.83 0.84 0.85 0.86 0.87 0.88 0.89 0.9  0.91\n",
      " 0.92 0.93 0.94 0.95 0.96 0.97 0.98 0.99 1.  ]\n"
     ]
    }
   ],
   "source": [
    "Ts = np.arange(0.5, 1.01, 0.01)\n",
    "print(Ts)"
   ]
  },
  {
   "cell_type": "code",
   "execution_count": 5,
   "metadata": {},
   "outputs": [
    {
     "name": "stdout",
     "output_type": "stream",
     "text": [
      "0\n"
     ]
    },
    {
     "name": "stderr",
     "output_type": "stream",
     "text": [
      "/home/junyuzh/Analog/repo/src/ASPLOS_AE/RealExp/classical_sim/.real/lib/python3.10/site-packages/qutip/solver/solver_base.py:576: FutureWarning: e_ops will be keyword only from qutip 5.3 for all solver\n",
      "  warnings.warn(\n"
     ]
    },
    {
     "name": "stdout",
     "output_type": "stream",
     "text": [
      "10\n",
      "20\n",
      "30\n",
      "40\n",
      "50\n"
     ]
    }
   ],
   "source": [
    "# define the initial state\n",
    "ls_tensor = [basis(2, 0) for i in range(N)]\n",
    "psi0 = tensor(ls_tensor)\n",
    "\n",
    "\n",
    "Z_obs = []\n",
    "ZZ_obs = []\n",
    "# Ts = np.arange(0.5, 1.01, 0.01)\n",
    "\n",
    "k = 0\n",
    "for T in Ts:\n",
    "    if k % 10 == 0:  \n",
    "        print(k)\n",
    "    k = k+1\n",
    "    result = sesolve(H, psi0, [0, T], [])\n",
    "    state_real = result.states[1].full()\n",
    "    num_qubits = int(np.log2(len(state_real)))\n",
    "    amplitudes = state_real.flatten()  \n",
    "    probabilities = {\n",
    "        f\"{i:0{num_qubits}b}\": abs(amplitudes[i])**2 for i in range(len(amplitudes))\n",
    "    }\n",
    "    qutip_res = probabilities\n",
    "    Z_obs.append(z_exp(qutip_res, size))\n",
    "    ZZ_obs.append(zz_exp(qutip_res, size))"
   ]
  },
  {
   "cell_type": "code",
   "execution_count": 6,
   "metadata": {},
   "outputs": [
    {
     "data": {
      "image/png": "[encoded data removed]",
      "text/plain": [
       "<Figure size 800x500 with 1 Axes>"
      ]
     },
     "metadata": {},
     "output_type": "display_data"
    }
   ],
   "source": [
    "plt.figure(figsize=(8, 5))\n",
    "plt.plot(Ts, Z_obs, marker='o', linestyle='-', color='b', label=\"Z vs T\")\n",
    "\n",
    "# Labels and title\n",
    "plt.xlabel(\"Evolution Time\")\n",
    "plt.ylabel(\"Z values\")\n",
    "plt.legend()\n",
    "plt.show()"
   ]
  },
  {
   "cell_type": "code",
   "execution_count": 7,
   "metadata": {},
   "outputs": [
    {
     "data": {
      "image/png": "[encoded data removed]",
      "text/plain": [
       "<Figure size 800x500 with 1 Axes>"
      ]
     },
     "metadata": {},
     "output_type": "display_data"
    }
   ],
   "source": [
    "plt.figure(figsize=(8, 5))\n",
    "plt.plot(Ts, ZZ_obs, marker='o', linestyle='-', color='b', label=\"ZZ vs T\")\n",
    "\n",
    "# Labels and title\n",
    "plt.xlabel(\"Evolution Time\")\n",
    "plt.ylabel(\"ZZ values\")\n",
    "plt.legend()\n",
    "plt.show()"
   ]
  },
  {
   "cell_type": "code",
   "execution_count": 8,
   "metadata": {},
   "outputs": [
    {
     "name": "stdout",
     "output_type": "stream",
     "text": [
      "Data saved successfully!\n"
     ]
    }
   ],
   "source": [
    "import json\n",
    "data = {\n",
    "    \"exp_Z\": Z_obs,\n",
    "    \"exp_ZZ\": ZZ_obs\n",
    "}\n",
    "\n",
    "# Save to a JSON file\n",
    "with open(\"qutip.json\", \"w\") as f:\n",
    "    json.dump(data, f, indent=4)\n",
    "\n",
    "print(\"Data saved successfully!\")"
   ]
  },
  {
   "cell_type": "code",
   "execution_count": null,
   "metadata": {},
   "outputs": [],
   "source": []
  }
 ],
 "metadata": {
  "kernelspec": {
   "display_name": ".real",
   "language": "python",
   "name": "python3"
  },
  "language_info": {
   "codemirror_mode": {
    "name": "ipython",
    "version": 3
   },
   "file_extension": ".py",
   "mimetype": "text/x-python",
   "name": "python",
   "nbconvert_exporter": "python",
   "pygments_lexer": "ipython3",
   "version": "3.10.12"
  }
 },
 "nbformat": 4,
 "nbformat_minor": 2
}
