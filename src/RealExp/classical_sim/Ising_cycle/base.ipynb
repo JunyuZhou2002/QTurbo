{
 "cells": [
  {
   "cell_type": "code",
   "execution_count": null,
   "metadata": {},
   "outputs": [],
   "source": [
    "from bloqade import piecewise_linear, piecewise_constant, rydberg_h\n",
    "from bloqade.atom_arrangement import ListOfLocations,Honeycomb, Chain, Square\n",
    "from qutip import *\n",
    "import pandas as pd\n",
    "import numpy as np\n",
    "from bokeh.io import output_notebook\n",
    "import matplotlib.pyplot as plt\n",
    "output_notebook()"
   ]
  },
  {
   "cell_type": "code",
   "execution_count": null,
   "metadata": {},
   "outputs": [],
   "source": [
    "sample_num = 100000\n",
    "\n",
    "def ob_value(bin_str1, bin_str2):\n",
    "    \n",
    "    if len(bin_str1) != len(bin_str2):\n",
    "        raise ValueError(\"Binary strings must have the same length\")\n",
    "\n",
    "    # Compute bitwise product (AND operation)\n",
    "    bitwise_product = [int(b1) & int(b2) for b1, b2 in zip(bin_str1, bin_str2)]\n",
    "    \n",
    "    # Compute modulo 2 sum (XOR sum of all resulting bits)\n",
    "    mod2_sum = sum(bitwise_product) % 2\n",
    "    \n",
    "    return mod2_sum\n",
    "\n",
    "def z_exp(res, size):\n",
    "    Z_ob = [format(1 << i, f'0{size}b') for i in range(size)]\n",
    "    \n",
    "    ave_z = []\n",
    "    for ob in Z_ob:\n",
    "        exp_ob = 0\n",
    "        for key, value in res.items():\n",
    "            if ob_value(key, ob) == 0:\n",
    "                # ground state\n",
    "                exp_ob = exp_ob - 1 * value\n",
    "            else:\n",
    "                # excited state\n",
    "                exp_ob = exp_ob + 1 * value\n",
    "        ave_z.append(exp_ob)\n",
    "    exp_z = sum(ave_z)/len(ave_z)\n",
    "\n",
    "    return exp_z\n",
    "\n",
    "def zz_exp(res, size):\n",
    "    ZZ_ob = []\n",
    "    for i in range(size):\n",
    "        first_bit = 1 << i\n",
    "        second_bit = 1 << ((i + 1) % size)  # Wrap around for the last element\n",
    "        ZZ_ob.append(format(first_bit | second_bit, f'0{size}b'))\n",
    "    \n",
    "    ave_zz = []\n",
    "    for ob in ZZ_ob:\n",
    "        exp_ob = 0\n",
    "        for key, value in res.items():\n",
    "            if ob_value(key, ob) == 0:\n",
    "                # 00 or 11\n",
    "                exp_ob = exp_ob + 1 * value\n",
    "            else:\n",
    "                # 01 or 10\n",
    "                exp_ob = exp_ob - 1 * value\n",
    "        ave_zz.append(exp_ob)\n",
    "    exp_zz = sum(ave_zz)/len(ave_zz)\n",
    "\n",
    "    return exp_zz"
   ]
  },
  {
   "cell_type": "markdown",
   "metadata": {},
   "source": [
    "Load data"
   ]
  },
  {
   "cell_type": "code",
   "execution_count": null,
   "metadata": {},
   "outputs": [],
   "source": [
    "Ts = np.arange(0.5, 1.01, 0.01)\n",
    "\n",
    "Z_obs = []\n",
    "ZZ_obs = []\n",
    "\n",
    "k = 0\n",
    "\n",
    "for t in Ts:\n",
    "\n",
    "    if k % 10 == 0:  \n",
    "        print(k)\n",
    "    k = k+1\n",
    "\n",
    "    size = 12\n",
    "    t_evol = (1/3.4)*t*3.997615462128398\n",
    "    pos = [(np.float64(-26.2), np.float64(65.3)), (np.float64(-37.1), np.float64(55.2)), (np.float64(-42.1), np.float64(41.3)), (np.float64(-46.4), np.float64(27.5)), (np.float64(-45.7), np.float64(12.7)), (np.float64(-38.0), np.float64(-0.0)), (np.float64(-24.1), np.float64(-5.1)), (np.float64(-10.3), np.float64(-0.0)), (np.float64(-3.4), np.float64(12.7)), (np.float64(-4.2), np.float64(27.5)), (np.float64(-10.0), np.float64(41.3)), (np.float64(-15.5), np.float64(55.2))]\n",
    "    delta = 0.08624\n",
    "    omega = 0.2126\n",
    "    phase = 0\n",
    "    t_ramp = 0.05\n",
    "    durations = [t_ramp,t_evol-t_ramp,t_ramp]\n",
    "    delta_MHz =[0, delta, delta, 0]\n",
    "    omega_MHz = [0, omega, omega, 0]\n",
    "    phase_ = [phase, phase, phase]\n",
    "    Delta = piecewise_linear(durations,[x*2*np.pi for x in delta_MHz])\n",
    "    Omega = piecewise_linear(durations,[x*2*np.pi for x in omega_MHz])\n",
    "    Phase = piecewise_constant(durations, phase_)\n",
    "\n",
    "    program = rydberg_h(pos, detuning=Delta, amplitude=Omega, phase=Phase)\n",
    "    output = program.bloqade.python().run(shots=sample_num, interaction_picture=True)\n",
    "    bitstring_counts = output.report().counts()[0]\n",
    "    total_count = sum(bitstring_counts.values())\n",
    "    bitstring_probabilities = {key: value / total_count for key, value in bitstring_counts.items()}\n",
    "    quera_res = bitstring_probabilities\n",
    "    quera_res = {key.replace('0', 'x').replace('1', '0').replace('x', '1'): value for key, value in quera_res.items()}\n",
    "    binary_length = size\n",
    "    all_binary_keys = [format(i, f'0{binary_length}b') for i in range(2**binary_length)]\n",
    "    for key in all_binary_keys:\n",
    "        if key not in quera_res:\n",
    "            quera_res[key] = 0\n",
    "    quera_res = {key: quera_res[key] for key in sorted(quera_res)}\n",
    "\n",
    "    Z_obs.append(z_exp(quera_res, size))\n",
    "    ZZ_obs.append(zz_exp(quera_res, size))"
   ]
  },
  {
   "cell_type": "code",
   "execution_count": null,
   "metadata": {},
   "outputs": [],
   "source": [
    "plt.figure(figsize=(8, 5))\n",
    "plt.plot(Ts, Z_obs, marker='o', linestyle='-', color='b', label=\"Y vs T\")\n",
    "\n",
    "# Labels and title\n",
    "plt.xlabel(\"Evolution Time\")\n",
    "plt.ylabel(\"Z values\")\n",
    "plt.legend()\n",
    "plt.show()"
   ]
  },
  {
   "cell_type": "code",
   "execution_count": null,
   "metadata": {},
   "outputs": [],
   "source": [
    "plt.figure(figsize=(8, 5))\n",
    "plt.plot(Ts, ZZ_obs, marker='o', linestyle='-', color='b', label=\"Y vs T\")\n",
    "\n",
    "# Labels and title\n",
    "plt.xlabel(\"Evolution Time\")\n",
    "plt.ylabel(\"ZZ values\")\n",
    "plt.legend()\n",
    "plt.show()"
   ]
  },
  {
   "cell_type": "code",
   "execution_count": null,
   "metadata": {},
   "outputs": [],
   "source": [
    "import json\n",
    "data = {\n",
    "    \"exp_Z\": Z_obs,\n",
    "    \"exp_ZZ\": ZZ_obs\n",
    "}\n",
    "\n",
    "# Save to a JSON file\n",
    "with open(\"base.json\", \"w\") as f:\n",
    "    json.dump(data, f, indent=4)\n",
    "\n",
    "print(\"Data saved successfully!\")"
   ]
  },
  {
   "cell_type": "code",
   "execution_count": null,
   "metadata": {},
   "outputs": [],
   "source": []
  },
  {
   "cell_type": "code",
   "execution_count": null,
   "metadata": {},
   "outputs": [],
   "source": []
  },
  {
   "cell_type": "code",
   "execution_count": null,
   "metadata": {},
   "outputs": [],
   "source": []
  }
 ],
 "metadata": {
  "kernelspec": {
   "display_name": ".real",
   "language": "python",
   "name": "python3"
  },
  "language_info": {
   "codemirror_mode": {
    "name": "ipython",
    "version": 3
   },
   "file_extension": ".py",
   "mimetype": "text/x-python",
   "name": "python",
   "nbconvert_exporter": "python",
   "pygments_lexer": "ipython3",
   "version": "3.10.12"
  }
 },
 "nbformat": 4,
 "nbformat_minor": 2
}
