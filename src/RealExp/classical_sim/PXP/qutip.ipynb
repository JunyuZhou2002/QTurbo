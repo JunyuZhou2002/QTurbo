{
 "cells": [
  {
   "cell_type": "code",
   "execution_count": 1,
   "metadata": {},
   "outputs": [],
   "source": [
    "from qutip import *\n",
    "import pandas as pd\n",
    "import numpy as np\n",
    "import matplotlib.pyplot as plt"
   ]
  },
  {
   "cell_type": "markdown",
   "metadata": {},
   "source": [
    "### Simulation"
   ]
  },
  {
   "cell_type": "code",
   "execution_count": 2,
   "metadata": {},
   "outputs": [],
   "source": [
    "size = 6\n",
    "\n",
    "# define the Hamiltonian and evolution time\n",
    "x = sigmax()\n",
    "z = sigmaz()\n",
    "i = qeye(2)\n",
    "n = (i-z)/2\n",
    "\n",
    "N = size\n",
    "tensor_ls = [qeye(2) for i in range(N)]\n",
    "H = tensor(tensor_ls)\n",
    "for j in range(N-1):\n",
    "    pauli = [i for k in range(N)]\n",
    "    pauli[j] = n\n",
    "    pauli[j+1] = n\n",
    "    H = H + 2 * np.pi * 4 * 0.05 * tensor(pauli)\n",
    "\n",
    "\n",
    "for j in range(N):\n",
    "    pauli = [i for k in range(N)]\n",
    "    pauli[j] = x\n",
    "    H = H + 2 * np.pi * 0.02 * tensor(pauli)\n",
    "\n",
    "# T = 0.25"
   ]
  },
  {
   "cell_type": "code",
   "execution_count": 3,
   "metadata": {},
   "outputs": [],
   "source": [
    "def ob_value(bin_str1, bin_str2):\n",
    "    \n",
    "    if len(bin_str1) != len(bin_str2):\n",
    "        raise ValueError(\"Binary strings must have the same length\")\n",
    "\n",
    "    # Compute bitwise product (AND operation)\n",
    "    bitwise_product = [int(b1) & int(b2) for b1, b2 in zip(bin_str1, bin_str2)]\n",
    "    \n",
    "    # Compute modulo 2 sum (XOR sum of all resulting bits)\n",
    "    mod2_sum = sum(bitwise_product) % 2\n",
    "    \n",
    "    return mod2_sum\n",
    "\n",
    "def z_exp(res, size):\n",
    "    Z_ob = [format(1 << i, f'0{size}b') for i in range(size)]\n",
    "    \n",
    "    ave_z = []\n",
    "    for ob in Z_ob:\n",
    "        exp_ob = 0\n",
    "        for key, value in res.items():\n",
    "            if ob_value(key, ob) == 0:\n",
    "                # ground state\n",
    "                exp_ob = exp_ob - 1 * value\n",
    "            else:\n",
    "                # excited state\n",
    "                exp_ob = exp_ob + 1 * value\n",
    "        ave_z.append(exp_ob)\n",
    "    exp_z = sum(ave_z)/len(ave_z)\n",
    "\n",
    "    return exp_z\n",
    "\n",
    "def zz_exp(res, size):\n",
    "    ZZ_ob = []\n",
    "    for i in range(size-1):\n",
    "        first_bit = 1 << i\n",
    "        second_bit = 1 << ((i + 1) % size)  # Wrap around for the last element\n",
    "        ZZ_ob.append(format(first_bit | second_bit, f'0{size}b'))\n",
    "    \n",
    "    ave_zz = []\n",
    "    for ob in ZZ_ob:\n",
    "        exp_ob = 0\n",
    "        for key, value in res.items():\n",
    "            if ob_value(key, ob) == 0:\n",
    "                # 00 or 11\n",
    "                exp_ob = exp_ob + 1 * value\n",
    "            else:\n",
    "                # 01 or 10\n",
    "                exp_ob = exp_ob - 1 * value\n",
    "        ave_zz.append(exp_ob)\n",
    "    exp_zz = sum(ave_zz)/len(ave_zz)\n",
    "\n",
    "    return exp_zz"
   ]
  },
  {
   "cell_type": "code",
   "execution_count": 4,
   "metadata": {},
   "outputs": [
    {
     "name": "stdout",
     "output_type": "stream",
     "text": [
      "[ 6.   6.1  6.2  6.3  6.4  6.5  6.6  6.7  6.8  6.9  7.   7.1  7.2  7.3\n",
      "  7.4  7.5  7.6  7.7  7.8  7.9  8.   8.1  8.2  8.3  8.4  8.5  8.6  8.7\n",
      "  8.8  8.9  9.   9.1  9.2  9.3  9.4  9.5  9.6  9.7  9.8  9.9 10.  10.1\n",
      " 10.2 10.3 10.4 10.5 10.6 10.7 10.8 10.9 11.  11.1 11.2 11.3 11.4 11.5\n",
      " 11.6 11.7 11.8 11.9 12.  12.1 12.2 12.3 12.4 12.5 12.6 12.7 12.8 12.9\n",
      " 13.  13.1 13.2 13.3 13.4 13.5 13.6 13.7 13.8 13.9 14.  14.1 14.2 14.3\n",
      " 14.4 14.5 14.6 14.7 14.8 14.9 15.  15.1 15.2 15.3 15.4 15.5 15.6 15.7\n",
      " 15.8 15.9 16.  16.1 16.2 16.3 16.4 16.5 16.6 16.7 16.8 16.9 17.  17.1\n",
      " 17.2 17.3 17.4 17.5 17.6 17.7 17.8 17.9 18.  18.1 18.2 18.3 18.4 18.5\n",
      " 18.6 18.7 18.8 18.9 19.  19.1 19.2 19.3 19.4 19.5 19.6 19.7 19.8 19.9\n",
      " 20. ]\n"
     ]
    }
   ],
   "source": [
    "Ts = np.arange(6.0, 20.1, 0.1)\n",
    "print(Ts)"
   ]
  },
  {
   "cell_type": "code",
   "execution_count": 5,
   "metadata": {},
   "outputs": [
    {
     "name": "stdout",
     "output_type": "stream",
     "text": [
      "0\n",
      "10\n",
      "20\n",
      "30\n",
      "40\n",
      "50\n",
      "60\n",
      "70\n",
      "80\n",
      "90"
     ]
    },
    {
     "name": "stderr",
     "output_type": "stream",
     "text": [
      "/home/junyuzh/Analog/repo/src/ASPLOS_AE/RealExp/.real/lib/python3.10/site-packages/qutip/solver/options.py:16: FutureWarning: Dedicated options class are no longer needed, options should be passed as dict to solvers.\n",
      "  warnings.warn(\n",
      "/home/junyuzh/Analog/repo/src/ASPLOS_AE/RealExp/.real/lib/python3.10/site-packages/qutip/solver/solver_base.py:576: FutureWarning: e_ops will be keyword only from qutip 5.3 for all solver\n",
      "  warnings.warn(\n"
     ]
    },
    {
     "name": "stdout",
     "output_type": "stream",
     "text": [
      "\n",
      "100\n",
      "110\n",
      "120\n",
      "130\n",
      "140\n"
     ]
    }
   ],
   "source": [
    "# define the initial state\n",
    "ls_tensor = [basis(2, 0) for i in range(N)]\n",
    "psi0 = tensor(ls_tensor)\n",
    "\n",
    "\n",
    "Z_obs = []\n",
    "ZZ_obs = []\n",
    "\n",
    "k = 0\n",
    "for T in Ts:\n",
    "    if k % 10 == 0:  \n",
    "        print(k)\n",
    "    k = k+1\n",
    "    result = sesolve(H, psi0, [0, T], [], options=Options(nsteps=100000))\n",
    "    state_real = result.states[1].full()\n",
    "    num_qubits = int(np.log2(len(state_real)))\n",
    "    amplitudes = state_real.flatten()  \n",
    "    probabilities = {\n",
    "        f\"{i:0{num_qubits}b}\": abs(amplitudes[i])**2 for i in range(len(amplitudes))\n",
    "    }\n",
    "    qutip_res = probabilities\n",
    "    Z_obs.append(z_exp(qutip_res, size))\n",
    "    ZZ_obs.append(zz_exp(qutip_res, size))"
   ]
  },
  {
   "cell_type": "code",
   "execution_count": 6,
   "metadata": {},
   "outputs": [
    {
     "data": {
      "image/png": "[encoded data removed]",
      "text/plain": [
       "<Figure size 800x500 with 1 Axes>"
      ]
     },
     "metadata": {},
     "output_type": "display_data"
    }
   ],
   "source": [
    "plt.figure(figsize=(8, 5))\n",
    "plt.plot(Ts, Z_obs, marker='o', linestyle='-', color='b', label=\"Z vs T\")\n",
    "\n",
    "# Labels and title\n",
    "plt.xlabel(\"Evolution Time\")\n",
    "plt.ylabel(\"Z values\")\n",
    "plt.legend()\n",
    "plt.show()"
   ]
  },
  {
   "cell_type": "code",
   "execution_count": 7,
   "metadata": {},
   "outputs": [
    {
     "data": {
      "image/png": "[encoded data removed]",
      "text/plain": [
       "<Figure size 800x500 with 1 Axes>"
      ]
     },
     "metadata": {},
     "output_type": "display_data"
    }
   ],
   "source": [
    "plt.figure(figsize=(8, 5))\n",
    "plt.plot(Ts, ZZ_obs, marker='o', linestyle='-', color='b', label=\"ZZ vs T\")\n",
    "\n",
    "# Labels and title\n",
    "plt.xlabel(\"Evolution Time\")\n",
    "plt.ylabel(\"ZZ values\")\n",
    "plt.legend()\n",
    "plt.show()"
   ]
  },
  {
   "cell_type": "code",
   "execution_count": 8,
   "metadata": {},
   "outputs": [
    {
     "name": "stdout",
     "output_type": "stream",
     "text": [
      "Data saved successfully!\n"
     ]
    }
   ],
   "source": [
    "import json\n",
    "data = {\n",
    "    \"exp_Z\": Z_obs,\n",
    "    \"exp_ZZ\": ZZ_obs\n",
    "}\n",
    "\n",
    "# Save to a JSON file\n",
    "with open(\"qutip.json\", \"w\") as f:\n",
    "    json.dump(data, f, indent=4)\n",
    "\n",
    "print(\"Data saved successfully!\")"
   ]
  },
  {
   "cell_type": "code",
   "execution_count": null,
   "metadata": {},
   "outputs": [],
   "source": []
  }
 ],
 "metadata": {
  "kernelspec": {
   "display_name": ".real",
   "language": "python",
   "name": "python3"
  },
  "language_info": {
   "codemirror_mode": {
    "name": "ipython",
    "version": 3
   },
   "file_extension": ".py",
   "mimetype": "text/x-python",
   "name": "python",
   "nbconvert_exporter": "python",
   "pygments_lexer": "ipython3",
   "version": "3.10.12"
  }
 },
 "nbformat": 4,
 "nbformat_minor": 2
}
